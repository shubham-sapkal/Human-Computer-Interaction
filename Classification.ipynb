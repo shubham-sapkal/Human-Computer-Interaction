{
 "cells": [
  {
   "cell_type": "code",
   "execution_count": 5,
   "metadata": {},
   "outputs": [
    {
     "name": "stdout",
     "output_type": "stream",
     "text": [
      "Defaulting to user installation because normal site-packages is not writeable\n",
      "Collecting pynput\n",
      "  Downloading pynput-1.7.6-py2.py3-none-any.whl (89 kB)\n",
      "     ---------------------------------------- 0.0/89.2 kB ? eta -:--:--\n",
      "     ---------------------------------------- 89.2/89.2 kB ? eta 0:00:00\n",
      "Requirement already satisfied: six in c:\\programdata\\anaconda3\\lib\\site-packages (from pynput) (1.16.0)\n",
      "Installing collected packages: pynput\n",
      "Successfully installed pynput-1.7.6\n"
     ]
    }
   ],
   "source": [
    "# !pip install opencv-python\n",
    "!pip install pynput"
   ]
  },
  {
   "cell_type": "code",
   "execution_count": 6,
   "metadata": {},
   "outputs": [],
   "source": [
    "import os\n",
    "import numpy as np\n",
    "import cv2\n",
    "import time\n",
    "from pynput.keyboard import Key, Controller\n",
    "# import screen_brightness_control as sbc\n",
    "from keras.models import load_model\n",
    "\n",
    "from lib.data_loader import DataLoader"
   ]
  },
  {
   "cell_type": "code",
   "execution_count": 7,
   "metadata": {},
   "outputs": [
    {
     "name": "stdout",
     "output_type": "stream",
     "text": [
      "loading model...\n"
     ]
    },
    {
     "ename": "OSError",
     "evalue": "No file or directory found at output/models/resnet_101.h5",
     "output_type": "error",
     "traceback": [
      "\u001b[1;31m---------------------------------------------------------------------------\u001b[0m",
      "\u001b[1;31mOSError\u001b[0m                                   Traceback (most recent call last)",
      "Cell \u001b[1;32mIn[7], line 9\u001b[0m\n\u001b[0;32m      6\u001b[0m data \u001b[38;5;241m=\u001b[39m DataLoader(labels_csv_path, train_csv_path, val_csv_path)\n\u001b[0;32m      8\u001b[0m \u001b[38;5;28mprint\u001b[39m(\u001b[38;5;124m'\u001b[39m\u001b[38;5;124mloading model...\u001b[39m\u001b[38;5;124m'\u001b[39m)\n\u001b[1;32m----> 9\u001b[0m model \u001b[38;5;241m=\u001b[39m load_model(\u001b[38;5;124m'\u001b[39m\u001b[38;5;124moutput/models/resnet_101.h5\u001b[39m\u001b[38;5;124m'\u001b[39m, \u001b[38;5;28mcompile\u001b[39m\u001b[38;5;241m=\u001b[39m\u001b[38;5;28;01mFalse\u001b[39;00m)\n\u001b[0;32m     10\u001b[0m \u001b[38;5;28mprint\u001b[39m(\u001b[38;5;124m'\u001b[39m\u001b[38;5;124mmodel loaded successfully\u001b[39m\u001b[38;5;124m'\u001b[39m)\n",
      "File \u001b[1;32m~\\AppData\\Roaming\\Python\\Python311\\site-packages\\keras\\src\\saving\\saving_api.py:238\u001b[0m, in \u001b[0;36mload_model\u001b[1;34m(filepath, custom_objects, compile, safe_mode, **kwargs)\u001b[0m\n\u001b[0;32m    230\u001b[0m     \u001b[38;5;28;01mreturn\u001b[39;00m saving_lib\u001b[38;5;241m.\u001b[39mload_model(\n\u001b[0;32m    231\u001b[0m         filepath,\n\u001b[0;32m    232\u001b[0m         custom_objects\u001b[38;5;241m=\u001b[39mcustom_objects,\n\u001b[0;32m    233\u001b[0m         \u001b[38;5;28mcompile\u001b[39m\u001b[38;5;241m=\u001b[39m\u001b[38;5;28mcompile\u001b[39m,\n\u001b[0;32m    234\u001b[0m         safe_mode\u001b[38;5;241m=\u001b[39msafe_mode,\n\u001b[0;32m    235\u001b[0m     )\n\u001b[0;32m    237\u001b[0m \u001b[38;5;66;03m# Legacy case.\u001b[39;00m\n\u001b[1;32m--> 238\u001b[0m \u001b[38;5;28;01mreturn\u001b[39;00m legacy_sm_saving_lib\u001b[38;5;241m.\u001b[39mload_model(\n\u001b[0;32m    239\u001b[0m     filepath, custom_objects\u001b[38;5;241m=\u001b[39mcustom_objects, \u001b[38;5;28mcompile\u001b[39m\u001b[38;5;241m=\u001b[39m\u001b[38;5;28mcompile\u001b[39m, \u001b[38;5;241m*\u001b[39m\u001b[38;5;241m*\u001b[39mkwargs\n\u001b[0;32m    240\u001b[0m )\n",
      "File \u001b[1;32m~\\AppData\\Roaming\\Python\\Python311\\site-packages\\keras\\src\\utils\\traceback_utils.py:70\u001b[0m, in \u001b[0;36mfilter_traceback.<locals>.error_handler\u001b[1;34m(*args, **kwargs)\u001b[0m\n\u001b[0;32m     67\u001b[0m     filtered_tb \u001b[38;5;241m=\u001b[39m _process_traceback_frames(e\u001b[38;5;241m.\u001b[39m__traceback__)\n\u001b[0;32m     68\u001b[0m     \u001b[38;5;66;03m# To get the full stack trace, call:\u001b[39;00m\n\u001b[0;32m     69\u001b[0m     \u001b[38;5;66;03m# `tf.debugging.disable_traceback_filtering()`\u001b[39;00m\n\u001b[1;32m---> 70\u001b[0m     \u001b[38;5;28;01mraise\u001b[39;00m e\u001b[38;5;241m.\u001b[39mwith_traceback(filtered_tb) \u001b[38;5;28;01mfrom\u001b[39;00m \u001b[38;5;28;01mNone\u001b[39;00m\n\u001b[0;32m     71\u001b[0m \u001b[38;5;28;01mfinally\u001b[39;00m:\n\u001b[0;32m     72\u001b[0m     \u001b[38;5;28;01mdel\u001b[39;00m filtered_tb\n",
      "File \u001b[1;32m~\\AppData\\Roaming\\Python\\Python311\\site-packages\\keras\\src\\saving\\legacy\\save.py:234\u001b[0m, in \u001b[0;36mload_model\u001b[1;34m(filepath, custom_objects, compile, options)\u001b[0m\n\u001b[0;32m    232\u001b[0m \u001b[38;5;28;01mif\u001b[39;00m \u001b[38;5;28misinstance\u001b[39m(filepath_str, \u001b[38;5;28mstr\u001b[39m):\n\u001b[0;32m    233\u001b[0m     \u001b[38;5;28;01mif\u001b[39;00m \u001b[38;5;129;01mnot\u001b[39;00m tf\u001b[38;5;241m.\u001b[39mio\u001b[38;5;241m.\u001b[39mgfile\u001b[38;5;241m.\u001b[39mexists(filepath_str):\n\u001b[1;32m--> 234\u001b[0m         \u001b[38;5;28;01mraise\u001b[39;00m \u001b[38;5;167;01mIOError\u001b[39;00m(\n\u001b[0;32m    235\u001b[0m             \u001b[38;5;124mf\u001b[39m\u001b[38;5;124m\"\u001b[39m\u001b[38;5;124mNo file or directory found at \u001b[39m\u001b[38;5;132;01m{\u001b[39;00mfilepath_str\u001b[38;5;132;01m}\u001b[39;00m\u001b[38;5;124m\"\u001b[39m\n\u001b[0;32m    236\u001b[0m         )\n\u001b[0;32m    238\u001b[0m     \u001b[38;5;28;01mif\u001b[39;00m tf\u001b[38;5;241m.\u001b[39mio\u001b[38;5;241m.\u001b[39mgfile\u001b[38;5;241m.\u001b[39misdir(filepath_str):\n\u001b[0;32m    239\u001b[0m         \u001b[38;5;28;01mreturn\u001b[39;00m saved_model_load\u001b[38;5;241m.\u001b[39mload(\n\u001b[0;32m    240\u001b[0m             filepath_str, \u001b[38;5;28mcompile\u001b[39m, options\n\u001b[0;32m    241\u001b[0m         )\n",
      "\u001b[1;31mOSError\u001b[0m: No file or directory found at output/models/resnet_101.h5"
     ]
    }
   ],
   "source": [
    "root_directory = r'C:\\Users\\Shubham\\Hand-Gesture-Recognition-for-HCI-main\\dataset'\n",
    "labels_csv_path = os.path.join(root_directory, 'labels_extracted.csv')\n",
    "train_csv_path = os.path.join(root_directory, 'train_extracted.csv')\n",
    "val_csv_path = os.path.join(root_directory, 'validation_extracted.csv')\n",
    "\n",
    "data = DataLoader(labels_csv_path, train_csv_path, val_csv_path)\n",
    "\n",
    "print('loading model...')\n",
    "model = load_model('output/models/resnet_101.h5', compile=False)\n",
    "print('model loaded successfully')"
   ]
  },
  {
   "cell_type": "code",
   "execution_count": 5,
   "metadata": {},
   "outputs": [],
   "source": [
    "hand_gesture_action_mapping = {\n",
    "    'Swiping Left': 'fast forward 10 seconds',\n",
    "    'Swiping Right': 'rewind 10 seconds',\n",
    "    'Swiping Down': 'previous video',\n",
    "    'Swiping Up': 'next video',\n",
    "    'Sliding Two Fingers Down': 'decrease volume',\n",
    "    'Sliding Two Fingers Up': 'increase volume',\n",
    "    'Thumb Down': 'mute / unmute',\n",
    "    'Thumb Up': 'enter / exit full screen',\n",
    "    'Stop Sign': 'play / pause',\n",
    "    'No gesture': 'no action'\n",
    "}"
   ]
  },
  {
   "cell_type": "code",
   "execution_count": 16,
   "metadata": {},
   "outputs": [],
   "source": [
    "WIDTH = 96\n",
    "HEIGHT = 64\n",
    "N_FRAMES = 16\n",
    "\n",
    "buffer = []\n",
    "predicted_value = 9\n",
    "hand_gesture = \"\"\n",
    "\n",
    "cam = cv2.VideoCapture(0)\n",
    "cam.set(cv2.CAP_PROP_FRAME_WIDTH, 400)\n",
    "cam.set(cv2.CAP_PROP_FRAME_HEIGHT, 400)\n",
    "keyboard = Controller()\n",
    "\n",
    "while(cam.isOpened()):\n",
    "    \n",
    "    return_value, frame = cam.read()\n",
    "    if return_value:\n",
    "        image = cv2.resize(frame, (WIDTH, HEIGHT))\n",
    "        image = image/255.0\n",
    "        buffer.append(image)\n",
    "        \n",
    "        # if buffer is appended with n frames\n",
    "        if(len(buffer)%N_FRAMES == 0):\n",
    "            buffer = np.expand_dims(buffer, 0)\n",
    "            predicted_value = np.argmax(model.predict(buffer, verbose=0))\n",
    "\n",
    "            if(predicted_value == 0):\n",
    "                keyboard.tap('l')\n",
    "                \n",
    "            elif (predicted_value == 1):\n",
    "                keyboard.tap('j')\n",
    "                \n",
    "            elif (predicted_value == 2):\n",
    "                keyboard.press(Key.shift)\n",
    "                keyboard.tap('p')\n",
    "                keyboard.release(Key.shift)\n",
    "                \n",
    "            elif (predicted_value== 3):\n",
    "                keyboard.press(Key.shift)\n",
    "                keyboard.tap('n')\n",
    "                keyboard.release(Key.shift)\n",
    "                \n",
    "            elif (predicted_value == 4):\n",
    "                keyboard.tap(Key.down)\n",
    "                \n",
    "            elif (predicted_value == 5):\n",
    "                keyboard.tap(Key.up)\n",
    "                \n",
    "            elif (predicted_value == 6):\n",
    "                keyboard.tap('m')\n",
    "\n",
    "            elif (predicted_value == 7):\n",
    "                keyboard.tap('f')\n",
    "                \n",
    "            elif (predicted_value == 8):\n",
    "                keyboard.tap('k')\n",
    "                \n",
    "            elif (predicted_value == 9):\n",
    "                pass\n",
    "\n",
    "            cv2.imshow('frame', frame)\n",
    "            buffer = []\n",
    "            \n",
    "        gesture = data.int_to_label[predicted_value]\n",
    "        text = f'{gesture} -> {hand_gesture_action_mapping[gesture]}'\n",
    "        cv2.putText(frame, text, (20, 35), cv2.FONT_HERSHEY_SIMPLEX, 0.8, (255, 0, 0), 3)\n",
    "        cv2.imshow('frame',frame)\n",
    "    \n",
    "    if cv2.waitKey(1) & 0xFF == ord('q'):\n",
    "        break\n",
    "        \n",
    "cam.release()\n",
    "cv2.destroyAllWindows()"
   ]
  }
 ],
 "metadata": {
  "kernelspec": {
   "display_name": "Python 3 (ipykernel)",
   "language": "python",
   "name": "python3"
  },
  "language_info": {
   "codemirror_mode": {
    "name": "ipython",
    "version": 3
   },
   "file_extension": ".py",
   "mimetype": "text/x-python",
   "name": "python",
   "nbconvert_exporter": "python",
   "pygments_lexer": "ipython3",
   "version": "3.11.4"
  },
  "vscode": {
   "interpreter": {
    "hash": "9481360d7190b8c4c719fedfc399c27f4a710e77023a7f81d67e5ad3678c6894"
   }
  }
 },
 "nbformat": 4,
 "nbformat_minor": 4
}
