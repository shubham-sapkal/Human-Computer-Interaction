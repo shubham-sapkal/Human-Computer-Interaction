{
 "cells": [
  {
   "cell_type": "code",
   "execution_count": null,
   "metadata": {},
   "outputs": [],
   "source": [
    "!pip install git+https://github.com/JihongJu/keras-resnet3d.git"
   ]
  },
  {
   "cell_type": "code",
   "execution_count": null,
   "metadata": {},
   "outputs": [],
   "source": [
    "import os\n",
    "from keras.optimizers import SGD\n",
    "from keras.models import load_model\n",
    "from keras.callbacks import ModelCheckpoint\n",
    "\n",
    "from lib.data_loader import DataLoader\n",
    "from lib.image import ImageDataGenerator\n",
    "from lib.resnet_model import Resnet3DBuilder"
   ]
  },
  {
   "cell_type": "code",
   "execution_count": null,
   "metadata": {},
   "outputs": [],
   "source": [
    "import os\n",
    "os.chdir('C:/Users/Shubham/Hand-Gesture-Recognition-for-HCI-main/')"
   ]
  },
  {
   "cell_type": "code",
   "execution_count": null,
   "metadata": {},
   "outputs": [],
   "source": [
    "root_directory = r'C:\\Users\\Shubham\\Hand-Gesture-Recognition-for-HCI-main\\dataset'\n",
    "labels_csv_path = os.path.join(root_directory, 'labels_extracted.csv')\n",
    "train_csv_path = os.path.join(root_directory, 'train_extracted.csv')\n",
    "val_csv_path = os.path.join(root_directory, 'validation_extracted.csv')\n",
    "train_path = os.path.join(root_directory, 'Train')\n",
    "val_path = os.path.join(root_directory, 'Validation')\n",
    "\n",
    "data = DataLoader(labels_csv_path, train_csv_path, val_csv_path)"
   ]
  },
  {
   "cell_type": "code",
   "execution_count": null,
   "metadata": {},
   "outputs": [],
   "source": [
    "data.train_df"
   ]
  },
  {
   "cell_type": "code",
   "execution_count": null,
   "metadata": {},
   "outputs": [],
   "source": [
    "data.labels_df"
   ]
  },
  {
   "cell_type": "code",
   "execution_count": null,
   "metadata": {},
   "outputs": [],
   "source": [
    "data.label_to_int"
   ]
  },
  {
   "cell_type": "code",
   "execution_count": null,
   "metadata": {},
   "outputs": [],
   "source": [
    "WIDTH = 96\n",
    "HEIGHT = 64\n",
    "TARGET_SIZE = (HEIGHT, WIDTH)\n",
    "BATCH_SIZE = 32\n",
    "N_FRAMES = 16\n",
    "SKIP = 1\n",
    "INPUT_SHAPE = (N_FRAMES,) + TARGET_SIZE + (3,)\n",
    "N_CLASSES = 10\n",
    "DROP_RATE = 0.5\n",
    "LEARNING_RATE = 0.01\n",
    "EPOCHS = 10\n",
    "WORKERS = 2"
   ]
  },
  {
   "cell_type": "code",
   "execution_count": null,
   "metadata": {},
   "outputs": [],
   "source": [
    "model = Resnet3DBuilder.build_resnet_101(\n",
    "    input_shape=INPUT_SHAPE, \n",
    "    num_outputs=N_CLASSES,\n",
    "    drop_rate=DROP_RATE\n",
    ")\n",
    "\n",
    "model.summary()"
   ]
  },
  {
   "cell_type": "code",
   "execution_count": null,
   "metadata": {},
   "outputs": [],
   "source": [
    "optimizer = SGD(learning_rate=LEARNING_RATE)\n",
    "model.compile(optimizer=optimizer, loss='categorical_crossentropy', metrics=['accuracy'])"
   ]
  },
  {
   "cell_type": "code",
   "execution_count": null,
   "metadata": {},
   "outputs": [],
   "source": [
    "def train_model(model):\n",
    "\n",
    "    image_datagen = ImageDataGenerator()\n",
    "\n",
    "    train_generator = image_datagen.flow_video_from_dataframe(\n",
    "        dataframe=data.train_df, \n",
    "        directory=train_path, \n",
    "        path_classes=labels_csv_path, \n",
    "        x_col='video_id', \n",
    "        y_col='label', \n",
    "        target_size=TARGET_SIZE, \n",
    "        class_mode='categorical',\n",
    "        color_mode='rgb',\n",
    "        batch_size=BATCH_SIZE, \n",
    "        shuffle=True,\n",
    "        seed=42,\n",
    "        nb_frames=N_FRAMES, \n",
    "        skip=SKIP\n",
    "    )\n",
    "\n",
    "    validation_generator = image_datagen.flow_video_from_dataframe(\n",
    "        dataframe=data.val_df, \n",
    "        directory=val_path, \n",
    "        path_classes=labels_csv_path, \n",
    "        x_col='video_id', \n",
    "        y_col='label', \n",
    "        target_size=TARGET_SIZE, \n",
    "        class_mode='categorical',\n",
    "        color_mode='rgb',\n",
    "        batch_size=BATCH_SIZE, \n",
    "        shuffle=True,\n",
    "        seed=42,\n",
    "        nb_frames=N_FRAMES, \n",
    "        skip=SKIP\n",
    "    )\n",
    "\n",
    "    n_sample_train = len(data.train_df)\n",
    "    n_sample_val = len(data.val_df)\n",
    "\n",
    "    # model_checkpoint = ModelCheckpoint(\n",
    "    #     'output/models/resnet_101_{epoch:02d}.h5', \n",
    "    #     period=1, \n",
    "    #     save_weights_only=False\n",
    "    # )\n",
    "\n",
    "    history = model.fit_generator(\n",
    "        generator=train_generator, \n",
    "        steps_per_epoch=n_sample_train/BATCH_SIZE, \n",
    "        validation_data=validation_generator, \n",
    "        validation_steps=n_sample_val/BATCH_SIZE,\n",
    "        epochs=1, \n",
    "        workers=WORKERS,\n",
    "        verbose=1,\n",
    "        # callbacks=[model_checkpoint]\n",
    "    )\n",
    "\n",
    "    model.save('output/models/resnet_101.h5')\n",
    "\n",
    "    return history"
   ]
  },
  {
   "cell_type": "code",
   "execution_count": null,
   "metadata": {},
   "outputs": [],
   "source": [
    "# epoch 1\n",
    "history = train_model(model)"
   ]
  },
  {
   "cell_type": "code",
   "execution_count": null,
   "metadata": {},
   "outputs": [],
   "source": [
    "# epoch 2\n",
    "model = load_model('output/models/resnet_101_1.h5')\n",
    "history = train_model(model)"
   ]
  },
  {
   "cell_type": "code",
   "execution_count": null,
   "metadata": {},
   "outputs": [],
   "source": [
    "# epoch 3\n",
    "model = load_model('output/models/resnet_101_2.h5')\n",
    "history = train_model(model)"
   ]
  },
  {
   "cell_type": "code",
   "execution_count": null,
   "metadata": {},
   "outputs": [],
   "source": [
    "# epoch 4 - 5\n",
    "model = load_model('output/models/resnet_101_3.h5')\n",
    "history = train_model(model)"
   ]
  },
  {
   "cell_type": "code",
   "execution_count": null,
   "metadata": {},
   "outputs": [],
   "source": [
    "# epoch 6 - 7\n",
    "model = load_model('output/models/resnet_101_5.h5')\n",
    "history = train_model(model)"
   ]
  }
 ],
 "metadata": {
  "kernelspec": {
   "display_name": "Python 3 (ipykernel)",
   "language": "python",
   "name": "python3"
  },
  "language_info": {
   "codemirror_mode": {
    "name": "ipython",
    "version": 3
   },
   "file_extension": ".py",
   "mimetype": "text/x-python",
   "name": "python",
   "nbconvert_exporter": "python",
   "pygments_lexer": "ipython3",
   "version": "3.11.4"
  }
 },
 "nbformat": 4,
 "nbformat_minor": 4
}
